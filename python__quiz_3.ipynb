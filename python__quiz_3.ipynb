{
  "nbformat": 4,
  "nbformat_minor": 0,
  "metadata": {
    "colab": {
      "provenance": []
    },
    "kernelspec": {
      "name": "python3",
      "display_name": "Python 3"
    },
    "language_info": {
      "name": "python"
    }
  },
  "cells": [
    {
      "cell_type": "markdown",
      "source": [
        "# 1"
      ],
      "metadata": {
        "id": "diq-6qeV3nhl"
      }
    },
    {
      "cell_type": "code",
      "execution_count": 39,
      "metadata": {
        "colab": {
          "base_uri": "https://localhost:8080/"
        },
        "id": "QVyzjqmh25i9",
        "outputId": "224c3945-d2bf-426f-f955-ce64d03ccb70"
      },
      "outputs": [
        {
          "output_type": "stream",
          "name": "stdout",
          "text": [
            "[30, 40, 50]\n"
          ]
        }
      ],
      "source": [
        "aList = [10,20,30,40,50,60,70,80] \n",
        "print(aList[2:5]) "
      ]
    },
    {
      "cell_type": "code",
      "source": [
        " print(aList[:4])  "
      ],
      "metadata": {
        "colab": {
          "base_uri": "https://localhost:8080/"
        },
        "id": "Hm7kNpGh29EU",
        "outputId": "a4a68027-1159-4b98-c9c4-0042747d3886"
      },
      "execution_count": 40,
      "outputs": [
        {
          "output_type": "stream",
          "name": "stdout",
          "text": [
            "[10, 20, 30, 40]\n"
          ]
        }
      ]
    },
    {
      "cell_type": "code",
      "source": [
        "print(aList[3:])"
      ],
      "metadata": {
        "colab": {
          "base_uri": "https://localhost:8080/"
        },
        "id": "PgcJegNv29Mp",
        "outputId": "bcaf2492-f891-42ae-c614-0f625934541c"
      },
      "execution_count": 41,
      "outputs": [
        {
          "output_type": "stream",
          "name": "stdout",
          "text": [
            "[40, 50, 60, 70, 80]\n"
          ]
        }
      ]
    },
    {
      "cell_type": "markdown",
      "source": [
        "# 2"
      ],
      "metadata": {
        "id": "gaFc3rlv39w8"
      }
    },
    {
      "cell_type": "code",
      "source": [
        "nameList = ['Harsh','Pratik','Bob','Dhruv']"
      ],
      "metadata": {
        "id": "pVB5kKG929Uq"
      },
      "execution_count": 42,
      "outputs": []
    },
    {
      "cell_type": "code",
      "source": [
        "print (nameList [1][-1])"
      ],
      "metadata": {
        "colab": {
          "base_uri": "https://localhost:8080/"
        },
        "id": "NvMnRVQn29co",
        "outputId": "cc3e1ad8-637d-40a9-f2a7-fad421380047"
      },
      "execution_count": 43,
      "outputs": [
        {
          "output_type": "stream",
          "name": "stdout",
          "text": [
            "k\n"
          ]
        }
      ]
    },
    {
      "cell_type": "markdown",
      "source": [
        "# 3"
      ],
      "metadata": {
        "id": "PPuJCLOa4GlW"
      }
    },
    {
      "cell_type": "code",
      "source": [
        "gradbunker = [1,2,3,4]"
      ],
      "metadata": {
        "id": "jz_dtWpu29hF"
      },
      "execution_count": 44,
      "outputs": []
    },
    {
      "cell_type": "code",
      "source": [
        "gradbunker.append ([5,6,7,8])"
      ],
      "metadata": {
        "id": "wWBzLphP29mj"
      },
      "execution_count": 45,
      "outputs": []
    },
    {
      "cell_type": "code",
      "source": [
        " print(gradbunker)"
      ],
      "metadata": {
        "colab": {
          "base_uri": "https://localhost:8080/"
        },
        "id": "UJyGOzfA29rG",
        "outputId": "3a67ded0-64dc-48ec-f726-b145eec169f4"
      },
      "execution_count": 46,
      "outputs": [
        {
          "output_type": "stream",
          "name": "stdout",
          "text": [
            "[1, 2, 3, 4, [5, 6, 7, 8]]\n"
          ]
        }
      ]
    },
    {
      "cell_type": "markdown",
      "source": [
        "# 4"
      ],
      "metadata": {
        "id": "2wA-rjPx4ZzW"
      }
    },
    {
      "cell_type": "code",
      "source": [
        "check1= ['Learn', 'Quiz', 'practice', 'Contribute']\n",
        "check2 = check1\n",
        "check3 = check1[:]\n",
        "check2[0] = 'code'  \n",
        "check3[1] = 'Mcq'\n",
        "count = 0 \n",
        "for c in (check1 , check2 , check3):\n",
        "   if c[0] == 'code' : \n",
        "     count += 1 \n",
        "\n",
        "\n",
        "\n",
        "      \n",
        "\n"
      ],
      "metadata": {
        "id": "1bkLQ3Wd29vQ"
      },
      "execution_count": 47,
      "outputs": []
    },
    {
      "cell_type": "code",
      "source": [
        "if c[1] == 'Mcq':\n",
        "\n",
        "  count += 10\n",
        "print (count)\n",
        "  "
      ],
      "metadata": {
        "colab": {
          "base_uri": "https://localhost:8080/"
        },
        "id": "1TuAF0hP290G",
        "outputId": "17127cb1-8f43-4d65-d4d6-2cf6e0bac255"
      },
      "execution_count": 48,
      "outputs": [
        {
          "output_type": "stream",
          "name": "stdout",
          "text": [
            "12\n"
          ]
        }
      ]
    },
    {
      "cell_type": "markdown",
      "source": [
        "# 5"
      ],
      "metadata": {
        "id": "qamOjQYF5mA4"
      }
    },
    {
      "cell_type": "code",
      "source": [
        "list1 = range(100,110)\n",
        "print (list1.index(105))"
      ],
      "metadata": {
        "colab": {
          "base_uri": "https://localhost:8080/"
        },
        "id": "R8IZlcSV294c",
        "outputId": "162479ff-0ee1-4730-9f31-39aa4b10457f"
      },
      "execution_count": 49,
      "outputs": [
        {
          "output_type": "stream",
          "name": "stdout",
          "text": [
            "5\n"
          ]
        }
      ]
    },
    {
      "cell_type": "markdown",
      "source": [
        "# 6"
      ],
      "metadata": {
        "id": "ynUmoq5154vE"
      }
    },
    {
      "cell_type": "code",
      "source": [
        "def gfg(x,l =[ ]):\n",
        "  for i in range (x):\n",
        "     l.append (i*i)\n",
        "  print(l)"
      ],
      "metadata": {
        "id": "ToGBusZ4298b"
      },
      "execution_count": 50,
      "outputs": []
    },
    {
      "cell_type": "code",
      "source": [
        "gfg (3,[3,2,1])"
      ],
      "metadata": {
        "colab": {
          "base_uri": "https://localhost:8080/"
        },
        "id": "8kbsb3al2-Aa",
        "outputId": "5ec50b33-b45d-475a-ca79-807af746a9ce"
      },
      "execution_count": 51,
      "outputs": [
        {
          "output_type": "stream",
          "name": "stdout",
          "text": [
            "[3, 2, 1, 0, 1, 4]\n"
          ]
        }
      ]
    },
    {
      "cell_type": "markdown",
      "source": [
        "# 7"
      ],
      "metadata": {
        "id": "X_1ysrlK6_Ae"
      }
    },
    {
      "cell_type": "code",
      "source": [
        " List1=[1,2,3,4,5] \n",
        " List2 = List1"
      ],
      "metadata": {
        "id": "F7TFNW-w2-EX"
      },
      "execution_count": 53,
      "outputs": []
    },
    {
      "cell_type": "code",
      "source": [
        "List2[0] = 0   "
      ],
      "metadata": {
        "id": "Lm6wOgJ12-Kc"
      },
      "execution_count": 54,
      "outputs": []
    },
    {
      "cell_type": "code",
      "source": [
        " print (List2)"
      ],
      "metadata": {
        "colab": {
          "base_uri": "https://localhost:8080/"
        },
        "id": "7W8wa_o22-Of",
        "outputId": "9386634e-b602-429f-90d0-4b0609e0ba64"
      },
      "execution_count": 55,
      "outputs": [
        {
          "output_type": "stream",
          "name": "stdout",
          "text": [
            "[0, 2, 3, 4, 5]\n"
          ]
        }
      ]
    },
    {
      "cell_type": "markdown",
      "source": [
        "# 8"
      ],
      "metadata": {
        "id": "d5Tgl-WVW3tQ"
      }
    },
    {
      "cell_type": "code",
      "source": [
        " list1 = [1998, 2002] \n",
        " list2 = [2014, 2016]  \n",
        "print ((list1+list2)*2)"
      ],
      "metadata": {
        "colab": {
          "base_uri": "https://localhost:8080/"
        },
        "id": "pFLOUOCv2-SJ",
        "outputId": "06dd1c73-aae1-4759-8489-101426640ec3"
      },
      "execution_count": 60,
      "outputs": [
        {
          "output_type": "stream",
          "name": "stdout",
          "text": [
            "[1998, 2002, 2014, 2016, 1998, 2002, 2014, 2016]\n"
          ]
        }
      ]
    },
    {
      "cell_type": "code",
      "source": [
        "x=[1,2,3]\n",
        "y=[4,5,6]"
      ],
      "metadata": {
        "id": "h2SmnLt82-Wd"
      },
      "execution_count": 62,
      "outputs": []
    },
    {
      "cell_type": "code",
      "source": [
        "print((x+y)*2)"
      ],
      "metadata": {
        "colab": {
          "base_uri": "https://localhost:8080/"
        },
        "id": "zubftZLl2-mB",
        "outputId": "a6a2fc07-95b4-4365-e4e7-dbf0855f2f2a"
      },
      "execution_count": 63,
      "outputs": [
        {
          "output_type": "stream",
          "name": "stdout",
          "text": [
            "[1, 2, 3, 4, 5, 6, 1, 2, 3, 4, 5, 6]\n"
          ]
        }
      ]
    },
    {
      "cell_type": "markdown",
      "source": [
        "# 9"
      ],
      "metadata": {
        "id": "6gyDBxq0YyU_"
      }
    },
    {
      "cell_type": "code",
      "source": [
        "list1=['physics','chemistry', 1997, 2000] \n",
        "print(list1[1][-1])"
      ],
      "metadata": {
        "colab": {
          "base_uri": "https://localhost:8080/"
        },
        "id": "3cEe_VmQ2-rN",
        "outputId": "54cf10c3-74f9-4a16-a320-e53b8b81ad3e"
      },
      "execution_count": 65,
      "outputs": [
        {
          "output_type": "stream",
          "name": "stdout",
          "text": [
            "y\n"
          ]
        }
      ]
    },
    {
      "cell_type": "markdown",
      "source": [
        "# 10"
      ],
      "metadata": {
        "id": "oDPgPfSFbd8_"
      }
    },
    {
      "cell_type": "code",
      "source": [
        "list =[1,2,3, (1,2,3,4,5), [ 'welcome','to','gradbunker']]"
      ],
      "metadata": {
        "id": "2a2_CoDI2-ve"
      },
      "execution_count": 66,
      "outputs": []
    },
    {
      "cell_type": "code",
      "source": [
        "print(len(list))"
      ],
      "metadata": {
        "colab": {
          "base_uri": "https://localhost:8080/"
        },
        "id": "IqyKqbFc2-zU",
        "outputId": "bf13c72c-eb1a-4f46-e05d-e84cdc330989"
      },
      "execution_count": 67,
      "outputs": [
        {
          "output_type": "stream",
          "name": "stdout",
          "text": [
            "5\n"
          ]
        }
      ]
    },
    {
      "cell_type": "markdown",
      "source": [
        "# 11"
      ],
      "metadata": {
        "id": "K503GWtjbxiu"
      }
    },
    {
      "cell_type": "code",
      "source": [
        "  list = ['python','learning','@', 'numpy''pandas','matplotlib']"
      ],
      "metadata": {
        "id": "2Decf3sq3BB3"
      },
      "execution_count": 68,
      "outputs": []
    },
    {
      "cell_type": "code",
      "source": [
        "print (list[0:6:2])"
      ],
      "metadata": {
        "colab": {
          "base_uri": "https://localhost:8080/"
        },
        "id": "qZDIzIEQ3BFt",
        "outputId": "8defb185-bef9-4bc3-d8cb-fa8dd6856c66"
      },
      "execution_count": 69,
      "outputs": [
        {
          "output_type": "stream",
          "name": "stdout",
          "text": [
            "['python', '@', 'matplotlib']\n"
          ]
        }
      ]
    },
    {
      "cell_type": "markdown",
      "source": [
        "# 12"
      ],
      "metadata": {
        "id": "5gwQzbhscSES"
      }
    },
    {
      "cell_type": "code",
      "source": [
        "d1= [10,20,30,40,50] "
      ],
      "metadata": {
        "id": "_CbLetq_3BL8"
      },
      "execution_count": 70,
      "outputs": []
    },
    {
      "cell_type": "code",
      "source": [
        "d2 =[1,2,3,4,5]  "
      ],
      "metadata": {
        "id": "qDziN7Q23BRT"
      },
      "execution_count": 71,
      "outputs": []
    },
    {
      "cell_type": "code",
      "source": [
        "print(d1-d1)"
      ],
      "metadata": {
        "colab": {
          "base_uri": "https://localhost:8080/",
          "height": 172
        },
        "id": "0Y3cUgyZ3BWd",
        "outputId": "a0fafc72-b9ae-4f5f-dc2d-400ce9213d5d"
      },
      "execution_count": 72,
      "outputs": [
        {
          "output_type": "error",
          "ename": "TypeError",
          "evalue": "ignored",
          "traceback": [
            "\u001b[0;31m---------------------------------------------------------------------------\u001b[0m",
            "\u001b[0;31mTypeError\u001b[0m                                 Traceback (most recent call last)",
            "\u001b[0;32m<ipython-input-72-a8fa7fc5ba42>\u001b[0m in \u001b[0;36m<module>\u001b[0;34m\u001b[0m\n\u001b[0;32m----> 1\u001b[0;31m \u001b[0mprint\u001b[0m\u001b[0;34m(\u001b[0m\u001b[0md1\u001b[0m\u001b[0;34m-\u001b[0m\u001b[0md1\u001b[0m\u001b[0;34m)\u001b[0m\u001b[0;34m\u001b[0m\u001b[0;34m\u001b[0m\u001b[0m\n\u001b[0m",
            "\u001b[0;31mTypeError\u001b[0m: unsupported operand type(s) for -: 'list' and 'list'"
          ]
        }
      ]
    },
    {
      "cell_type": "markdown",
      "source": [
        "# 13"
      ],
      "metadata": {
        "id": "PK5jt8zlcnDo"
      }
    },
    {
      "cell_type": "code",
      "source": [
        "dict1 = {'name': 'Mike' , 'salary' : 8000}"
      ],
      "metadata": {
        "id": "IL33EqBI3Bc4"
      },
      "execution_count": 73,
      "outputs": []
    },
    {
      "cell_type": "code",
      "source": [
        " temp = dict1.get('name')"
      ],
      "metadata": {
        "id": "ImRRMwY73Bic"
      },
      "execution_count": 74,
      "outputs": []
    },
    {
      "cell_type": "code",
      "source": [
        "print (temp)"
      ],
      "metadata": {
        "colab": {
          "base_uri": "https://localhost:8080/"
        },
        "id": "TceEGstc3Brq",
        "outputId": "f6ead759-0274-4c03-a9ec-145c8e67a800"
      },
      "execution_count": 75,
      "outputs": [
        {
          "output_type": "stream",
          "name": "stdout",
          "text": [
            "Mike\n"
          ]
        }
      ]
    },
    {
      "cell_type": "markdown",
      "source": [
        "# 17"
      ],
      "metadata": {
        "id": "Z_TWx9e1eHxA"
      }
    },
    {
      "cell_type": "code",
      "source": [
        "student = {'name' : 'Rajib','class' : 9, 'marks' : 75}"
      ],
      "metadata": {
        "id": "uxdgi2PN3Byj"
      },
      "execution_count": 80,
      "outputs": []
    },
    {
      "cell_type": "code",
      "source": [
        "m = student.get(2)"
      ],
      "metadata": {
        "id": "KWts5gkw3B4q"
      },
      "execution_count": 81,
      "outputs": []
    },
    {
      "cell_type": "code",
      "source": [
        "print(m)"
      ],
      "metadata": {
        "colab": {
          "base_uri": "https://localhost:8080/"
        },
        "id": "0PrsUDCC3CAV",
        "outputId": "55ac380b-af6c-4f12-87a4-5c9e58700172"
      },
      "execution_count": 83,
      "outputs": [
        {
          "output_type": "stream",
          "name": "stdout",
          "text": [
            "None\n"
          ]
        }
      ]
    },
    {
      "cell_type": "code",
      "source": [
        "student.get(\"marks\")"
      ],
      "metadata": {
        "colab": {
          "base_uri": "https://localhost:8080/"
        },
        "id": "mnjx6_eL3CF6",
        "outputId": "997097e4-e748-4ec8-ff8b-e95edd2dbb4a"
      },
      "execution_count": 87,
      "outputs": [
        {
          "output_type": "execute_result",
          "data": {
            "text/plain": [
              "75"
            ]
          },
          "metadata": {},
          "execution_count": 87
        }
      ]
    },
    {
      "cell_type": "markdown",
      "source": [
        "# 18"
      ],
      "metadata": {
        "id": "N0-pfSkLg8Da"
      }
    },
    {
      "cell_type": "code",
      "source": [
        "sampleDict = dict ([('first',1),('second',2),('third',3)])"
      ],
      "metadata": {
        "id": "Xcdg8WZp3CKe"
      },
      "execution_count": 88,
      "outputs": []
    },
    {
      "cell_type": "code",
      "source": [
        "print(sampleDict[2])"
      ],
      "metadata": {
        "colab": {
          "base_uri": "https://localhost:8080/",
          "height": 172
        },
        "id": "MBbIkc_83COJ",
        "outputId": "3b70616c-f39d-4ce0-dd10-bb703790dc8c"
      },
      "execution_count": 90,
      "outputs": [
        {
          "output_type": "error",
          "ename": "KeyError",
          "evalue": "ignored",
          "traceback": [
            "\u001b[0;31m---------------------------------------------------------------------------\u001b[0m",
            "\u001b[0;31mKeyError\u001b[0m                                  Traceback (most recent call last)",
            "\u001b[0;32m<ipython-input-90-19d6617c6435>\u001b[0m in \u001b[0;36m<module>\u001b[0;34m\u001b[0m\n\u001b[0;32m----> 1\u001b[0;31m \u001b[0mprint\u001b[0m\u001b[0;34m(\u001b[0m\u001b[0msampleDict\u001b[0m\u001b[0;34m[\u001b[0m\u001b[0;36m2\u001b[0m\u001b[0;34m]\u001b[0m\u001b[0;34m)\u001b[0m\u001b[0;34m\u001b[0m\u001b[0;34m\u001b[0m\u001b[0m\n\u001b[0m",
            "\u001b[0;31mKeyError\u001b[0m: 2"
          ]
        }
      ]
    },
    {
      "cell_type": "markdown",
      "source": [
        "# 21"
      ],
      "metadata": {
        "id": "matr1xytjSYL"
      }
    },
    {
      "cell_type": "code",
      "source": [
        "dict1 = {'key1':1, 'key2':2} "
      ],
      "metadata": {
        "id": "zJSb_iA63CSN"
      },
      "execution_count": 91,
      "outputs": []
    },
    {
      "cell_type": "code",
      "source": [
        "dict2 = {'key2':2, 'key1':1}"
      ],
      "metadata": {
        "id": "7I8B49Rz3CWf"
      },
      "execution_count": 92,
      "outputs": []
    },
    {
      "cell_type": "code",
      "source": [
        "print(dict1 == dict2)"
      ],
      "metadata": {
        "colab": {
          "base_uri": "https://localhost:8080/"
        },
        "id": "kpETTdsV3Cax",
        "outputId": "035753a8-3e66-42d3-becc-6952a17eee3b"
      },
      "execution_count": 93,
      "outputs": [
        {
          "output_type": "stream",
          "name": "stdout",
          "text": [
            "True\n"
          ]
        }
      ]
    },
    {
      "cell_type": "markdown",
      "source": [
        "# 22"
      ],
      "metadata": {
        "id": "Xhuy-JU0jizJ"
      }
    },
    {
      "cell_type": "code",
      "source": [
        " student = {1:{'name': 'Emma', 'age': 27,'sex' : 'Female'}, 2:{'name': 'Mike', 'age': 22, 'sex' : 'male'}}"
      ],
      "metadata": {
        "id": "oVtAoXyfjiOB"
      },
      "execution_count": 99,
      "outputs": []
    },
    {
      "cell_type": "code",
      "source": [
        "student[1][\"age\"]"
      ],
      "metadata": {
        "colab": {
          "base_uri": "https://localhost:8080/"
        },
        "id": "TdQJRpaJjiKj",
        "outputId": "61329310-f201-4ce1-9e28-35ff65e75acf"
      },
      "execution_count": 103,
      "outputs": [
        {
          "output_type": "execute_result",
          "data": {
            "text/plain": [
              "27"
            ]
          },
          "metadata": {},
          "execution_count": 103
        }
      ]
    },
    {
      "cell_type": "markdown",
      "source": [
        "# 23"
      ],
      "metadata": {
        "id": "vkkitVSakYtU"
      }
    },
    {
      "cell_type": "code",
      "source": [
        " student = { 'name' : 'Emma',    'class' :9,   'marks' : 75}"
      ],
      "metadata": {
        "id": "Hnu4Rbhzjh-Q"
      },
      "execution_count": 129,
      "outputs": []
    },
    {
      "cell_type": "code",
      "source": [
        "# student.popitem(\"marks\")"
      ],
      "metadata": {
        "id": "yApfCQ0nmb5z"
      },
      "execution_count": 130,
      "outputs": []
    },
    {
      "cell_type": "code",
      "source": [
        "# student.remove (\"marks\")"
      ],
      "metadata": {
        "id": "dIt_aBg1mic1"
      },
      "execution_count": 131,
      "outputs": []
    },
    {
      "cell_type": "code",
      "source": [
        "student.pop(\"marks\")"
      ],
      "metadata": {
        "colab": {
          "base_uri": "https://localhost:8080/"
        },
        "id": "XHMcm2DDmow9",
        "outputId": "94095f0b-2fc9-45d5-cf5d-72301a5329ad"
      },
      "execution_count": 132,
      "outputs": [
        {
          "output_type": "execute_result",
          "data": {
            "text/plain": [
              "75"
            ]
          },
          "metadata": {},
          "execution_count": 132
        }
      ]
    },
    {
      "cell_type": "code",
      "source": [
        "# del student [\"marks\"]"
      ],
      "metadata": {
        "id": "e3NzhVfqkxB1"
      },
      "execution_count": 134,
      "outputs": []
    },
    {
      "cell_type": "code",
      "source": [
        "# student"
      ],
      "metadata": {
        "id": "NOt54oejk9jZ"
      },
      "execution_count": 135,
      "outputs": []
    },
    {
      "cell_type": "markdown",
      "source": [
        "# 24"
      ],
      "metadata": {
        "id": "_21YC3OTpkNk"
      }
    },
    {
      "cell_type": "code",
      "source": [
        "subjectSampleDicT = { 'class' :{  'student':{ 'name': 'Mike',  'marks' :   {'physics' : 70, 'history' :80 } } }}"
      ],
      "metadata": {
        "id": "4mI92jsQk9eg"
      },
      "execution_count": 139,
      "outputs": []
    },
    {
      "cell_type": "code",
      "source": [
        "subjectSampleDicT[\"class\"][\"student\"][\"marks\"][\"history\"]"
      ],
      "metadata": {
        "colab": {
          "base_uri": "https://localhost:8080/"
        },
        "id": "uyew23AFk9Ks",
        "outputId": "b49cd4bb-be69-4b81-c014-e81b7a5ef019"
      },
      "execution_count": 141,
      "outputs": [
        {
          "output_type": "execute_result",
          "data": {
            "text/plain": [
              "80"
            ]
          },
          "metadata": {},
          "execution_count": 141
        }
      ]
    },
    {
      "cell_type": "code",
      "source": [
        "# subjectSampleDicT[\"class\"][\"student\"][\"marks\"][1]"
      ],
      "metadata": {
        "id": "ueQEZ7bak9GX"
      },
      "execution_count": 146,
      "outputs": []
    },
    {
      "cell_type": "code",
      "source": [
        "# subjectSampleDicT[\"class\"][0][\"marks\"][\"history\"]"
      ],
      "metadata": {
        "id": "IwNEnuHfk9CA"
      },
      "execution_count": 145,
      "outputs": []
    },
    {
      "cell_type": "markdown",
      "source": [
        "# 25"
      ],
      "metadata": {
        "id": "7uKAndnqwR73"
      }
    },
    {
      "cell_type": "code",
      "source": [
        "dict1 ={\"name\": \"Mike\", \"salary\":8000} \n",
        "temp = dict1.pop(\"age\")\n",
        "print (temp)"
      ],
      "metadata": {
        "colab": {
          "base_uri": "https://localhost:8080/",
          "height": 207
        },
        "id": "cMmRIvgQk8-x",
        "outputId": "0f9983ed-7b04-4740-dda7-909640a39a61"
      },
      "execution_count": 147,
      "outputs": [
        {
          "output_type": "error",
          "ename": "KeyError",
          "evalue": "ignored",
          "traceback": [
            "\u001b[0;31m---------------------------------------------------------------------------\u001b[0m",
            "\u001b[0;31mKeyError\u001b[0m                                  Traceback (most recent call last)",
            "\u001b[0;32m<ipython-input-147-18fb6adc127f>\u001b[0m in \u001b[0;36m<module>\u001b[0;34m\u001b[0m\n\u001b[1;32m      1\u001b[0m \u001b[0mdict1\u001b[0m \u001b[0;34m=\u001b[0m\u001b[0;34m{\u001b[0m\u001b[0;34m\"name\"\u001b[0m\u001b[0;34m:\u001b[0m \u001b[0;34m\"Mike\"\u001b[0m\u001b[0;34m,\u001b[0m \u001b[0;34m\"salary\"\u001b[0m\u001b[0;34m:\u001b[0m\u001b[0;36m8000\u001b[0m\u001b[0;34m}\u001b[0m\u001b[0;34m\u001b[0m\u001b[0;34m\u001b[0m\u001b[0m\n\u001b[0;32m----> 2\u001b[0;31m \u001b[0mtemp\u001b[0m \u001b[0;34m=\u001b[0m \u001b[0mdict1\u001b[0m\u001b[0;34m.\u001b[0m\u001b[0mpop\u001b[0m\u001b[0;34m(\u001b[0m\u001b[0;34m\"age\"\u001b[0m\u001b[0;34m)\u001b[0m\u001b[0;34m\u001b[0m\u001b[0;34m\u001b[0m\u001b[0m\n\u001b[0m\u001b[1;32m      3\u001b[0m \u001b[0mprint\u001b[0m \u001b[0;34m(\u001b[0m\u001b[0mtemp\u001b[0m\u001b[0;34m)\u001b[0m\u001b[0;34m\u001b[0m\u001b[0;34m\u001b[0m\u001b[0m\n",
            "\u001b[0;31mKeyError\u001b[0m: 'age'"
          ]
        }
      ]
    },
    {
      "cell_type": "markdown",
      "source": [
        "# 26"
      ],
      "metadata": {
        "id": "pfpRNLayzEGQ"
      }
    },
    {
      "cell_type": "code",
      "source": [
        "Student = { \"name\" : \"Emma\",   \"class\" : 9,   \"marks\" :75}\n",
        "del Student\n",
        "print(Student)"
      ],
      "metadata": {
        "colab": {
          "base_uri": "https://localhost:8080/",
          "height": 207
        },
        "id": "IbT5QP7xwKnM",
        "outputId": "245a27a9-cf18-4b76-aab8-4fc5c74ab79b"
      },
      "execution_count": 149,
      "outputs": [
        {
          "output_type": "error",
          "ename": "NameError",
          "evalue": "ignored",
          "traceback": [
            "\u001b[0;31m---------------------------------------------------------------------------\u001b[0m",
            "\u001b[0;31mNameError\u001b[0m                                 Traceback (most recent call last)",
            "\u001b[0;32m<ipython-input-149-86a77771e8e4>\u001b[0m in \u001b[0;36m<module>\u001b[0;34m\u001b[0m\n\u001b[1;32m      1\u001b[0m \u001b[0mStudent\u001b[0m \u001b[0;34m=\u001b[0m \u001b[0;34m{\u001b[0m \u001b[0;34m\"name\"\u001b[0m \u001b[0;34m:\u001b[0m \u001b[0;34m\"Emma\"\u001b[0m\u001b[0;34m,\u001b[0m   \u001b[0;34m\"class\"\u001b[0m \u001b[0;34m:\u001b[0m \u001b[0;36m9\u001b[0m\u001b[0;34m,\u001b[0m   \u001b[0;34m\"marks\"\u001b[0m \u001b[0;34m:\u001b[0m\u001b[0;36m75\u001b[0m\u001b[0;34m}\u001b[0m\u001b[0;34m\u001b[0m\u001b[0;34m\u001b[0m\u001b[0m\n\u001b[1;32m      2\u001b[0m \u001b[0;32mdel\u001b[0m \u001b[0mStudent\u001b[0m\u001b[0;34m\u001b[0m\u001b[0;34m\u001b[0m\u001b[0m\n\u001b[0;32m----> 3\u001b[0;31m \u001b[0mprint\u001b[0m\u001b[0;34m(\u001b[0m\u001b[0mStudent\u001b[0m\u001b[0;34m)\u001b[0m\u001b[0;34m\u001b[0m\u001b[0;34m\u001b[0m\u001b[0m\n\u001b[0m",
            "\u001b[0;31mNameError\u001b[0m: name 'Student' is not defined"
          ]
        }
      ]
    },
    {
      "cell_type": "code",
      "source": [],
      "metadata": {
        "id": "icnGzdD2wKcN"
      },
      "execution_count": null,
      "outputs": []
    },
    {
      "cell_type": "code",
      "source": [],
      "metadata": {
        "id": "K-woDSeowKRV"
      },
      "execution_count": null,
      "outputs": []
    }
  ]
}