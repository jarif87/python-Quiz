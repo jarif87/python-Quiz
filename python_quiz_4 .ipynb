{
  "nbformat": 4,
  "nbformat_minor": 0,
  "metadata": {
    "colab": {
      "provenance": []
    },
    "kernelspec": {
      "name": "python3",
      "display_name": "Python 3"
    },
    "language_info": {
      "name": "python"
    }
  },
  "cells": [
    {
      "cell_type": "markdown",
      "source": [
        "# 1"
      ],
      "metadata": {
        "id": "5_Pg5roaTqql"
      }
    },
    {
      "cell_type": "code",
      "execution_count": 1,
      "metadata": {
        "id": "UV7RuhdhTT_m"
      },
      "outputs": [],
      "source": [
        "def fun1(name, age):\n",
        "  print(name,age)"
      ]
    },
    {
      "cell_type": "code",
      "source": [
        "fun1(\"Emma\", age=23)"
      ],
      "metadata": {
        "colab": {
          "base_uri": "https://localhost:8080/"
        },
        "id": "B6HDBd8iTX26",
        "outputId": "9e5ff30a-c053-4bdd-bfc3-e80437b49321"
      },
      "execution_count": 2,
      "outputs": [
        {
          "output_type": "stream",
          "name": "stdout",
          "text": [
            "Emma 23\n"
          ]
        }
      ]
    },
    {
      "cell_type": "code",
      "source": [
        "fun1(age =23, name=\"Emma\")"
      ],
      "metadata": {
        "colab": {
          "base_uri": "https://localhost:8080/"
        },
        "id": "pUfCa0_DTX5m",
        "outputId": "5fe7d4ad-beca-4363-fa82-a91a10612f23"
      },
      "execution_count": 3,
      "outputs": [
        {
          "output_type": "stream",
          "name": "stdout",
          "text": [
            "Emma 23\n"
          ]
        }
      ]
    },
    {
      "cell_type": "markdown",
      "source": [
        "# 2"
      ],
      "metadata": {
        "id": "6GUiU-6hUJdB"
      }
    },
    {
      "cell_type": "code",
      "source": [
        "def add(a, b):\n",
        "  return a+5, b+5"
      ],
      "metadata": {
        "id": "JgiJPON3TX_q"
      },
      "execution_count": 4,
      "outputs": []
    },
    {
      "cell_type": "code",
      "source": [
        "result = add(3, 2)\n",
        "print(result)"
      ],
      "metadata": {
        "colab": {
          "base_uri": "https://localhost:8080/"
        },
        "id": "kKFsP3hzTYDH",
        "outputId": "53c7c02e-ffaa-4dc1-ba64-b3115c98df08"
      },
      "execution_count": 5,
      "outputs": [
        {
          "output_type": "stream",
          "name": "stdout",
          "text": [
            "(8, 7)\n"
          ]
        }
      ]
    },
    {
      "cell_type": "code",
      "source": [],
      "metadata": {
        "id": "ee-iZgneTYU8"
      },
      "execution_count": 5,
      "outputs": []
    },
    {
      "cell_type": "code",
      "source": [],
      "metadata": {
        "id": "vOtd-wNyTYXz"
      },
      "execution_count": 5,
      "outputs": []
    },
    {
      "cell_type": "markdown",
      "source": [
        "# 8"
      ],
      "metadata": {
        "id": "t32ErM_vV-jA"
      }
    },
    {
      "cell_type": "code",
      "source": [
        "def fun1(name, age=20):\n",
        "  print(name, age) "
      ],
      "metadata": {
        "id": "7aw4yHzkTYaz"
      },
      "execution_count": 6,
      "outputs": []
    },
    {
      "cell_type": "code",
      "source": [
        "fun1('Emma', 25)"
      ],
      "metadata": {
        "colab": {
          "base_uri": "https://localhost:8080/"
        },
        "id": "0NX6WPBHTYeF",
        "outputId": "3a06a577-644e-4291-ef4b-b780584dd4e9"
      },
      "execution_count": 7,
      "outputs": [
        {
          "output_type": "stream",
          "name": "stdout",
          "text": [
            "Emma 25\n"
          ]
        }
      ]
    },
    {
      "cell_type": "markdown",
      "source": [
        "# 9"
      ],
      "metadata": {
        "id": "MWas9z1WWTQr"
      }
    },
    {
      "cell_type": "code",
      "source": [
        "def display_person(*args):\n",
        "\n",
        "  for i in args:\n",
        "    print(i) \n",
        "\n"
      ],
      "metadata": {
        "id": "B86OU-7mTYhG"
      },
      "execution_count": 8,
      "outputs": []
    },
    {
      "cell_type": "code",
      "source": [
        "# display_person(name=\"Emma\", age=\"25\")"
      ],
      "metadata": {
        "id": "OoUC1c7wTYjt"
      },
      "execution_count": 10,
      "outputs": []
    },
    {
      "cell_type": "markdown",
      "source": [
        "# 10"
      ],
      "metadata": {
        "id": "w2GwZsUHiHjC"
      }
    },
    {
      "cell_type": "code",
      "source": [
        "def outer_fun(a, b):\n",
        "   def inner_fun(c, d):\n",
        "     return c + d\n",
        "   return inner_fun(a, b) "
      ],
      "metadata": {
        "id": "abTjnrg8gnxT"
      },
      "execution_count": 11,
      "outputs": []
    },
    {
      "cell_type": "code",
      "source": [
        "res = outer_fun(5, 10) \n",
        "print(res)"
      ],
      "metadata": {
        "colab": {
          "base_uri": "https://localhost:8080/"
        },
        "id": "JL0Ua7ZZgnoP",
        "outputId": "d3f0c4ab-26ad-405c-9e5c-443ba4e0df21"
      },
      "execution_count": 12,
      "outputs": [
        {
          "output_type": "stream",
          "name": "stdout",
          "text": [
            "15\n"
          ]
        }
      ]
    },
    {
      "cell_type": "markdown",
      "source": [
        "# 12\n"
      ],
      "metadata": {
        "id": "pRnQebS9rb6K"
      }
    },
    {
      "cell_type": "code",
      "source": [
        "def fun1(num):\n",
        "   return num + 25 "
      ],
      "metadata": {
        "id": "oRRbwcAzgngb"
      },
      "execution_count": 15,
      "outputs": []
    },
    {
      "cell_type": "code",
      "source": [
        "fun1(5)\n",
        "print(num)"
      ],
      "metadata": {
        "id": "m-VKWw_hgnZc",
        "colab": {
          "base_uri": "https://localhost:8080/",
          "height": 161
        },
        "outputId": "791aac51-8a1f-411d-b833-81923b85c93a"
      },
      "execution_count": 16,
      "outputs": [
        {
          "output_type": "error",
          "ename": "NameError",
          "evalue": "ignored",
          "traceback": [
            "\u001b[0;31m---------------------------------------------------------------------------\u001b[0m",
            "\u001b[0;31mNameError\u001b[0m                                 Traceback (most recent call last)",
            "\u001b[0;32m<ipython-input-16-d0c19ba3fc5b>\u001b[0m in \u001b[0;36m<module>\u001b[0;34m\u001b[0m\n\u001b[1;32m      1\u001b[0m \u001b[0mfun1\u001b[0m\u001b[0;34m(\u001b[0m\u001b[0;36m5\u001b[0m\u001b[0;34m)\u001b[0m\u001b[0;34m\u001b[0m\u001b[0;34m\u001b[0m\u001b[0m\n\u001b[0;32m----> 2\u001b[0;31m \u001b[0mprint\u001b[0m\u001b[0;34m(\u001b[0m\u001b[0mnum\u001b[0m\u001b[0;34m)\u001b[0m\u001b[0;34m\u001b[0m\u001b[0;34m\u001b[0m\u001b[0m\n\u001b[0m",
            "\u001b[0;31mNameError\u001b[0m: name 'num' is not defined"
          ]
        }
      ]
    },
    {
      "cell_type": "code",
      "source": [],
      "metadata": {
        "id": "GRo6eYQNgnTL"
      },
      "execution_count": null,
      "outputs": []
    },
    {
      "cell_type": "markdown",
      "source": [
        "# 14"
      ],
      "metadata": {
        "id": "toGw_t4Iubay"
      }
    },
    {
      "cell_type": "code",
      "source": [
        "for num in range(-2,-5,-1):\n",
        "    print(num,end=\",\")"
      ],
      "metadata": {
        "id": "8XjEAwOpgnKd",
        "colab": {
          "base_uri": "https://localhost:8080/"
        },
        "outputId": "d9ae765f-ed23-434a-af32-3d5de9e4ca0c"
      },
      "execution_count": 20,
      "outputs": [
        {
          "output_type": "stream",
          "name": "stdout",
          "text": [
            "-2,-3,-4,"
          ]
        }
      ]
    },
    {
      "cell_type": "code",
      "source": [
        "for i in range(0,10,2):\n",
        "  print(i)"
      ],
      "metadata": {
        "id": "_AruTDnwgnG9",
        "colab": {
          "base_uri": "https://localhost:8080/"
        },
        "outputId": "a9ce2e81-0088-4002-daf7-8e8a63590ba9"
      },
      "execution_count": 22,
      "outputs": [
        {
          "output_type": "stream",
          "name": "stdout",
          "text": [
            "0\n",
            "2\n",
            "4\n",
            "6\n",
            "8\n"
          ]
        }
      ]
    },
    {
      "cell_type": "markdown",
      "source": [
        "# 15"
      ],
      "metadata": {
        "id": "5ydG-uspu9ge"
      }
    },
    {
      "cell_type": "code",
      "source": [
        "numbers = [10, 20]\n",
        "items = [\"Chair\", \"Table\"]\n",
        "for x in numbers:\n",
        "  for y in items:\n",
        "    \n",
        "    print(x, y)\n"
      ],
      "metadata": {
        "colab": {
          "base_uri": "https://localhost:8080/"
        },
        "id": "qDGGTbyQu8qD",
        "outputId": "0c97fd47-509a-4b7c-881a-0a43b673d597"
      },
      "execution_count": 31,
      "outputs": [
        {
          "output_type": "stream",
          "name": "stdout",
          "text": [
            "10 Chair\n",
            "10 Table\n",
            "20 Chair\n",
            "20 Table\n"
          ]
        }
      ]
    },
    {
      "cell_type": "markdown",
      "source": [
        "# 17"
      ],
      "metadata": {
        "id": "CnExwhpJwDRo"
      }
    },
    {
      "cell_type": "code",
      "source": [
        "x = 0\n",
        "while (x < 100):\n",
        "  x+=2\n",
        "  print(x)\n"
      ],
      "metadata": {
        "colab": {
          "base_uri": "https://localhost:8080/"
        },
        "id": "z7q9MZREu8tc",
        "outputId": "fa636571-ad63-44dc-ad70-613ed3d7de32"
      },
      "execution_count": 37,
      "outputs": [
        {
          "output_type": "stream",
          "name": "stdout",
          "text": [
            "2\n",
            "4\n",
            "6\n",
            "8\n",
            "10\n",
            "12\n",
            "14\n",
            "16\n",
            "18\n",
            "20\n",
            "22\n",
            "24\n",
            "26\n",
            "28\n",
            "30\n",
            "32\n",
            "34\n",
            "36\n",
            "38\n",
            "40\n",
            "42\n",
            "44\n",
            "46\n",
            "48\n",
            "50\n",
            "52\n",
            "54\n",
            "56\n",
            "58\n",
            "60\n",
            "62\n",
            "64\n",
            "66\n",
            "68\n",
            "70\n",
            "72\n",
            "74\n",
            "76\n",
            "78\n",
            "80\n",
            "82\n",
            "84\n",
            "86\n",
            "88\n",
            "90\n",
            "92\n",
            "94\n",
            "96\n",
            "98\n",
            "100\n"
          ]
        }
      ]
    },
    {
      "cell_type": "markdown",
      "source": [
        "# 18"
      ],
      "metadata": {
        "id": "9rtQrs7owvmC"
      }
    },
    {
      "cell_type": "code",
      "source": [
        "for i in range(2,-5,-1):\n",
        "  print(i)"
      ],
      "metadata": {
        "colab": {
          "base_uri": "https://localhost:8080/"
        },
        "id": "VifsSQPyu8w9",
        "outputId": "9ef14d27-3f15-472c-d69a-d480068353ef"
      },
      "execution_count": 38,
      "outputs": [
        {
          "output_type": "stream",
          "name": "stdout",
          "text": [
            "2\n",
            "1\n",
            "0\n",
            "-1\n",
            "-2\n",
            "-3\n",
            "-4\n"
          ]
        }
      ]
    },
    {
      "cell_type": "markdown",
      "source": [
        "# 19"
      ],
      "metadata": {
        "id": "AgnbOONcxnqy"
      }
    },
    {
      "cell_type": "code",
      "source": [
        "x = 0\n",
        "a = 0\n",
        "b = -5\n",
        "if a > 0:\n",
        "    if b < 0: \n",
        "        x = x + 5 \n",
        "    elif a > 5:\n",
        "        x = x + 4\n",
        "    else:\n",
        "        x = x + 3\n",
        "else:\n",
        "    x = x + 2\n",
        "print(x)"
      ],
      "metadata": {
        "colab": {
          "base_uri": "https://localhost:8080/"
        },
        "id": "6GbgLwm_u805",
        "outputId": "ee54a06c-39c7-42ef-97f0-a5bb538d114b"
      },
      "execution_count": 40,
      "outputs": [
        {
          "output_type": "stream",
          "name": "stdout",
          "text": [
            "2\n"
          ]
        }
      ]
    },
    {
      "cell_type": "markdown",
      "source": [
        "# 20"
      ],
      "metadata": {
        "id": "N0Ufx0MLxjUC"
      }
    },
    {
      "cell_type": "code",
      "source": [
        "a, b = 12, 5\n",
        "if a + b:\n",
        "    print('True')\n",
        "else:\n",
        "  print('False')"
      ],
      "metadata": {
        "colab": {
          "base_uri": "https://localhost:8080/"
        },
        "id": "ORBBgXCYxi7Q",
        "outputId": "3110b594-777e-47eb-ec21-7fa6d5f7e080"
      },
      "execution_count": 39,
      "outputs": [
        {
          "output_type": "stream",
          "name": "stdout",
          "text": [
            "True\n"
          ]
        }
      ]
    },
    {
      "cell_type": "markdown",
      "source": [
        "# 21"
      ],
      "metadata": {
        "id": "4ov-45cyyBJX"
      }
    },
    {
      "cell_type": "code",
      "source": [
        "var = 10\n",
        "for i in range(10):\n",
        "    for j in range(2, 10, 1):\n",
        "        if var % 2 == 0:\n",
        "            continue\n",
        "            var += 1\n",
        "    var+=1\n",
        "else:\n",
        "    var+=1\n",
        "print(var)"
      ],
      "metadata": {
        "colab": {
          "base_uri": "https://localhost:8080/"
        },
        "id": "AO3mTyfoyAeo",
        "outputId": "9e8e1074-2ab8-420a-c9c5-f2bb733d3d91"
      },
      "execution_count": 41,
      "outputs": [
        {
          "output_type": "stream",
          "name": "stdout",
          "text": [
            "21\n"
          ]
        }
      ]
    },
    {
      "cell_type": "markdown",
      "source": [
        "# 22"
      ],
      "metadata": {
        "id": "Qvc4gPyjyU5H"
      }
    },
    {
      "cell_type": "code",
      "source": [
        "x = 0\n",
        "for i in range(10):\n",
        "  for j in range(-1, -10, -1):\n",
        "    x += 1\n",
        "    print(x)"
      ],
      "metadata": {
        "colab": {
          "base_uri": "https://localhost:8080/"
        },
        "id": "7UU5jFvXyAYG",
        "outputId": "4201638c-0dcb-41b0-c29b-a91070a6f162"
      },
      "execution_count": 46,
      "outputs": [
        {
          "output_type": "stream",
          "name": "stdout",
          "text": [
            "1\n",
            "2\n",
            "3\n",
            "4\n",
            "5\n",
            "6\n",
            "7\n",
            "8\n",
            "9\n",
            "10\n",
            "11\n",
            "12\n",
            "13\n",
            "14\n",
            "15\n",
            "16\n",
            "17\n",
            "18\n",
            "19\n",
            "20\n",
            "21\n",
            "22\n",
            "23\n",
            "24\n",
            "25\n",
            "26\n",
            "27\n",
            "28\n",
            "29\n",
            "30\n",
            "31\n",
            "32\n",
            "33\n",
            "34\n",
            "35\n",
            "36\n",
            "37\n",
            "38\n",
            "39\n",
            "40\n",
            "41\n",
            "42\n",
            "43\n",
            "44\n",
            "45\n",
            "46\n",
            "47\n",
            "48\n",
            "49\n",
            "50\n",
            "51\n",
            "52\n",
            "53\n",
            "54\n",
            "55\n",
            "56\n",
            "57\n",
            "58\n",
            "59\n",
            "60\n",
            "61\n",
            "62\n",
            "63\n",
            "64\n",
            "65\n",
            "66\n",
            "67\n",
            "68\n",
            "69\n",
            "70\n",
            "71\n",
            "72\n",
            "73\n",
            "74\n",
            "75\n",
            "76\n",
            "77\n",
            "78\n",
            "79\n",
            "80\n",
            "81\n",
            "82\n",
            "83\n",
            "84\n",
            "85\n",
            "86\n",
            "87\n",
            "88\n",
            "89\n",
            "90\n"
          ]
        }
      ]
    },
    {
      "cell_type": "markdown",
      "source": [
        "# 23"
      ],
      "metadata": {
        "id": "3pkT8bvDyWtx"
      }
    },
    {
      "cell_type": "code",
      "source": [
        "for num in range(10, 14):\n",
        "  for i in range(2, num):\n",
        "    if num%i == 1:\n",
        "       print(num)\n",
        "       break"
      ],
      "metadata": {
        "colab": {
          "base_uri": "https://localhost:8080/"
        },
        "id": "jnhXPE8UyASW",
        "outputId": "e42d21ac-526c-44b5-a194-b32db9190280"
      },
      "execution_count": 47,
      "outputs": [
        {
          "output_type": "stream",
          "name": "stdout",
          "text": [
            "10\n",
            "11\n",
            "12\n",
            "13\n"
          ]
        }
      ]
    },
    {
      "cell_type": "code",
      "source": [],
      "metadata": {
        "id": "ue_-FInvyAOq"
      },
      "execution_count": null,
      "outputs": []
    },
    {
      "cell_type": "code",
      "source": [],
      "metadata": {
        "id": "gedTGlxYyALn"
      },
      "execution_count": null,
      "outputs": []
    },
    {
      "cell_type": "code",
      "source": [],
      "metadata": {
        "id": "mbCCheJdyAIM"
      },
      "execution_count": null,
      "outputs": []
    },
    {
      "cell_type": "code",
      "source": [],
      "metadata": {
        "id": "_bBEDTxLyAE7"
      },
      "execution_count": null,
      "outputs": []
    },
    {
      "cell_type": "code",
      "source": [],
      "metadata": {
        "id": "V39p5l7NyAAB"
      },
      "execution_count": null,
      "outputs": []
    },
    {
      "cell_type": "code",
      "source": [],
      "metadata": {
        "id": "HErGgWJnx_79"
      },
      "execution_count": null,
      "outputs": []
    },
    {
      "cell_type": "code",
      "source": [],
      "metadata": {
        "id": "JJ6jjilnx_0u"
      },
      "execution_count": null,
      "outputs": []
    },
    {
      "cell_type": "code",
      "source": [],
      "metadata": {
        "id": "2HKfzaRVx_tt"
      },
      "execution_count": null,
      "outputs": []
    },
    {
      "cell_type": "code",
      "source": [],
      "metadata": {
        "id": "HKaM2I8mx_lK"
      },
      "execution_count": null,
      "outputs": []
    },
    {
      "cell_type": "code",
      "source": [],
      "metadata": {
        "id": "mT3up41rx_eg"
      },
      "execution_count": null,
      "outputs": []
    },
    {
      "cell_type": "code",
      "source": [],
      "metadata": {
        "id": "LrfPBxk_x_W1"
      },
      "execution_count": null,
      "outputs": []
    },
    {
      "cell_type": "code",
      "source": [],
      "metadata": {
        "id": "JUQWBEClx_Ot"
      },
      "execution_count": null,
      "outputs": []
    }
  ]
}