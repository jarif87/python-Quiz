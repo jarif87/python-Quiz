{
  "nbformat": 4,
  "nbformat_minor": 0,
  "metadata": {
    "colab": {
      "provenance": [],
      "collapsed_sections": []
    },
    "kernelspec": {
      "name": "python3",
      "display_name": "Python 3"
    },
    "language_info": {
      "name": "python"
    }
  },
  "cells": [
    {
      "cell_type": "markdown",
      "source": [
        "1"
      ],
      "metadata": {
        "id": "-R1wsnmzaW9Z"
      }
    },
    {
      "cell_type": "code",
      "execution_count": 1,
      "metadata": {
        "colab": {
          "base_uri": "https://localhost:8080/",
          "height": 137
        },
        "id": "zmz9u-LZS7El",
        "outputId": "5baa600a-66f5-4d13-a6ce-f7ce4289ae74"
      },
      "outputs": [
        {
          "output_type": "error",
          "ename": "SyntaxError",
          "evalue": "ignored",
          "traceback": [
            "\u001b[0;36m  File \u001b[0;32m\"<ipython-input-1-d5769330b1ce>\"\u001b[0;36m, line \u001b[0;32m1\u001b[0m\n\u001b[0;31m    print(ord(‘foo’))*\u001b[0m\n\u001b[0m                  ^\u001b[0m\n\u001b[0;31mSyntaxError\u001b[0m\u001b[0;31m:\u001b[0m invalid character in identifier\n"
          ]
        }
      ],
      "source": [
        "print(ord(‘foo’))*\n"
      ]
    },
    {
      "cell_type": "markdown",
      "source": [
        "2"
      ],
      "metadata": {
        "id": "C5HA78fsaZjI"
      }
    },
    {
      "cell_type": "code",
      "source": [
        "long_word = \"foobar\"\n",
        "print(long_word[: : -2])"
      ],
      "metadata": {
        "id": "Tugo90zuUfvQ"
      },
      "execution_count": null,
      "outputs": []
    },
    {
      "cell_type": "code",
      "source": [
        ": : 2\n",
        ": : -2\n",
        "∶ ∶ -3"
      ],
      "metadata": {
        "id": "HucYtavDUpyd"
      },
      "execution_count": null,
      "outputs": []
    },
    {
      "cell_type": "markdown",
      "source": [
        "3"
      ],
      "metadata": {
        "id": "J1RWYHtNacj9"
      }
    },
    {
      "cell_type": "code",
      "source": [
        "s = 'foobar'\n",
        "# print(s[0] + s[-1])---->same\n",
        "# print(s[::5])--->same\n",
        "print(s[::-5])      \n",
        "# print(s[::-1][::-5])--------->same"
      ],
      "metadata": {
        "id": "MbFdo12xZSLk"
      },
      "execution_count": null,
      "outputs": []
    },
    {
      "cell_type": "markdown",
      "source": [
        "4"
      ],
      "metadata": {
        "id": "oRW6R_TiaeJC"
      }
    },
    {
      "cell_type": "code",
      "source": [
        "s=\"foobar\"\n",
        "# print(s [∷-1][∷-1])\n",
        "# print(s [:])\n",
        "# print(s [∷-1][∷-1])\n",
        "# print(s [:])\n",
        "x=s[:]\n",
        "if(s==x):\n",
        "  print(\"true\")"
      ],
      "metadata": {
        "id": "v4GleV58aU0D"
      },
      "execution_count": null,
      "outputs": []
    },
    {
      "cell_type": "markdown",
      "source": [
        "5"
      ],
      "metadata": {
        "id": "sKRE80g1c_to"
      }
    },
    {
      "cell_type": "code",
      "source": [
        "# def greet(x):\n",
        "#     return \"Hello\"+ x\n"
      ],
      "metadata": {
        "id": "W69FeXqCClo0"
      },
      "execution_count": 29,
      "outputs": []
    },
    {
      "cell_type": "code",
      "source": [
        "name=\"My name is O\"\n",
        "\n",
        "print(f\"{greet(name)}\")"
      ],
      "metadata": {
        "colab": {
          "base_uri": "https://localhost:8080/"
        },
        "id": "GhFtCVXPFIzW",
        "outputId": "1efc7239-0036-4b26-d357-385cdf4419bb"
      },
      "execution_count": 30,
      "outputs": [
        {
          "output_type": "stream",
          "name": "stdout",
          "text": [
            "HelloMy name is O\n"
          ]
        }
      ]
    },
    {
      "cell_type": "markdown",
      "source": [
        "6"
      ],
      "metadata": {
        "id": "iOD6gmpgdBpI"
      }
    },
    {
      "cell_type": "code",
      "source": [
        "sampleList = [10,20,30,40,50] \n",
        "# print (sampleList [-2])        \n",
        "print (sampleList [-4∶-1])      "
      ],
      "metadata": {
        "colab": {
          "base_uri": "https://localhost:8080/",
          "height": 138
        },
        "id": "ylIudH-BcRou",
        "outputId": "038f51f9-f246-417a-a48f-9e291041595d"
      },
      "execution_count": 4,
      "outputs": [
        {
          "output_type": "error",
          "ename": "SyntaxError",
          "evalue": "ignored",
          "traceback": [
            "\u001b[0;36m  File \u001b[0;32m\"<ipython-input-4-f1c8c45c0c28>\"\u001b[0;36m, line \u001b[0;32m3\u001b[0m\n\u001b[0;31m    print (sampleList [-4∶-1])\u001b[0m\n\u001b[0m                         ^\u001b[0m\n\u001b[0;31mSyntaxError\u001b[0m\u001b[0;31m:\u001b[0m invalid character in identifier\n"
          ]
        }
      ]
    },
    {
      "cell_type": "markdown",
      "source": [
        "7"
      ],
      "metadata": {
        "id": "_03rAsJrhd-9"
      }
    },
    {
      "cell_type": "code",
      "source": [
        "l= ['None' ]*10 \n",
        "print(len(l))"
      ],
      "metadata": {
        "id": "47bAQrkYhbDl"
      },
      "execution_count": null,
      "outputs": []
    },
    {
      "cell_type": "markdown",
      "source": [
        "9"
      ],
      "metadata": {
        "id": "5CRDr1bMh1Er"
      }
    },
    {
      "cell_type": "code",
      "source": [
        "aList = [1,2,3,4,5,6,7]\n",
        "pow2 =[2*x for x in aList]\n",
        "print(pow2)"
      ],
      "metadata": {
        "id": "WONiW_CacRli"
      },
      "execution_count": null,
      "outputs": []
    },
    {
      "cell_type": "markdown",
      "source": [
        "10"
      ],
      "metadata": {
        "id": "9B6W0vTIiQUQ"
      }
    },
    {
      "cell_type": "code",
      "source": [
        " aList = [\"\\\"PYnative\\\"\",[4,8,12,16]]\n",
        " print(aList[0][1])\n",
        " print(aList[1][3])"
      ],
      "metadata": {
        "id": "LtQk85NHcRh9"
      },
      "execution_count": null,
      "outputs": []
    },
    {
      "cell_type": "markdown",
      "source": [
        "11"
      ],
      "metadata": {
        "id": "dojx7i0TlAfF"
      }
    },
    {
      "cell_type": "code",
      "source": [
        "  listOne = ['a','b','c','d']\n",
        "  listTwo =['e','f','g']\n",
        "  newList = listOne + listTwo\n",
        "  print(newList)"
      ],
      "metadata": {
        "id": "Hss-W3FfcRey"
      },
      "execution_count": null,
      "outputs": []
    },
    {
      "cell_type": "code",
      "source": [
        "# newList = extend(listOne , listTwo)\n",
        "newList = listOne.extend(listTwo)\n",
        "print(newList)"
      ],
      "metadata": {
        "id": "M_zYxRk1cRb2"
      },
      "execution_count": null,
      "outputs": []
    },
    {
      "cell_type": "code",
      "source": [
        "# y=newList . extend(listOne , listTwo)"
      ],
      "metadata": {
        "id": "Ezdpr7JacRYn"
      },
      "execution_count": null,
      "outputs": []
    },
    {
      "cell_type": "markdown",
      "source": [
        "12"
      ],
      "metadata": {
        "id": "qjwqKDdHn8T9"
      }
    },
    {
      "cell_type": "code",
      "source": [
        "  aList =[5,10,15,25] \n",
        "  print (aList [:: -2])"
      ],
      "metadata": {
        "id": "mipnes2hcRVF"
      },
      "execution_count": null,
      "outputs": []
    },
    {
      "cell_type": "markdown",
      "source": [
        "13"
      ],
      "metadata": {
        "id": "tX7Z9z91oQ6E"
      }
    },
    {
      "cell_type": "code",
      "source": [
        "D = dict( ) \n",
        "for x in enumerate (range(2)): \n",
        "  D[x[0]] = x[1]\n",
        "  D[x[1]+7]=x[0]\n",
        "print(D)\n"
      ],
      "metadata": {
        "id": "XHT2TV2kcRR5"
      },
      "execution_count": null,
      "outputs": []
    },
    {
      "cell_type": "code",
      "source": [
        "x[1]"
      ],
      "metadata": {
        "id": "4iVpk26jpbNj"
      },
      "execution_count": null,
      "outputs": []
    },
    {
      "cell_type": "code",
      "source": [
        "print(x)"
      ],
      "metadata": {
        "id": "pXbnzWGNo_MJ"
      },
      "execution_count": null,
      "outputs": []
    },
    {
      "cell_type": "code",
      "source": [
        "x[0]"
      ],
      "metadata": {
        "id": "2dV4NUHgo3rs"
      },
      "execution_count": null,
      "outputs": []
    },
    {
      "cell_type": "code",
      "source": [
        "D[x[0]]"
      ],
      "metadata": {
        "id": "8asJVNlgcRO3"
      },
      "execution_count": null,
      "outputs": []
    },
    {
      "cell_type": "markdown",
      "source": [
        "14"
      ],
      "metadata": {
        "id": "cgC7lxalrMjL"
      }
    },
    {
      "cell_type": "code",
      "source": [
        "D = {   1:1, 2: 'big',  '1':1,   4:3}              \n",
        "D['1'] = 2  \n",
        "print(D[D[str(D[1])]])"
      ],
      "metadata": {
        "id": "NS2PhHa8cRL0"
      },
      "execution_count": null,
      "outputs": []
    },
    {
      "cell_type": "code",
      "source": [
        "m= {   1:1, 2: 'big',  '1':1,   4:3}   \n",
        "len(m)"
      ],
      "metadata": {
        "id": "R78AU33zcRH_"
      },
      "execution_count": null,
      "outputs": []
    },
    {
      "cell_type": "code",
      "source": [
        "# print(m[\"4\"])"
      ],
      "metadata": {
        "id": "uhcYlkFTcRFC"
      },
      "execution_count": null,
      "outputs": []
    },
    {
      "cell_type": "markdown",
      "source": [
        "15"
      ],
      "metadata": {
        "id": "Rm7S4K2Fs_JE"
      }
    },
    {
      "cell_type": "code",
      "source": [
        "D = {1 : {'A':{1 : 'A'}, 2 : 'B'}, 3 : 'C', 'B': 'D', 'D': 'E'}  \n",
        "print(D[D[D[1][2]]]) \n"
      ],
      "metadata": {
        "id": "4l0jccIhs-TU"
      },
      "execution_count": null,
      "outputs": []
    },
    {
      "cell_type": "code",
      "source": [
        "print(D[1]['A'][1])"
      ],
      "metadata": {
        "id": "gnMk3vuytL5g"
      },
      "execution_count": null,
      "outputs": []
    },
    {
      "cell_type": "markdown",
      "source": [
        "16"
      ],
      "metadata": {
        "id": "pdxaBNTut5Tm"
      }
    },
    {
      "cell_type": "code",
      "source": [
        "D = dict()for i in range (3):\n",
        "for j in range (2):\n",
        "   D [i] = j\n",
        "\n",
        "   print(D)\n",
        "\n",
        " \n",
        "  \n"
      ],
      "metadata": {
        "id": "U3HzRxZLt2hD"
      },
      "execution_count": null,
      "outputs": []
    },
    {
      "cell_type": "markdown",
      "source": [
        "17"
      ],
      "metadata": {
        "id": "jAgSP709uV-R"
      }
    },
    {
      "cell_type": "code",
      "source": [
        "D = {1:[1,2,3],2: (4,6,8)} \n",
        "D[1].append(4)\n",
        "print (D[1])       "
      ],
      "metadata": {
        "id": "gx-3-Gdnt2c9"
      },
      "execution_count": null,
      "outputs": []
    },
    {
      "cell_type": "code",
      "source": [
        "L = [D[2]].append(10)        \n",
        "D[2] = tuple(L)    \n",
        "print (D[2])  "
      ],
      "metadata": {
        "id": "pJXwkI41t2ZI"
      },
      "execution_count": null,
      "outputs": []
    },
    {
      "cell_type": "markdown",
      "source": [
        "18"
      ],
      "metadata": {
        "id": "6mppyx_b8QJC"
      }
    },
    {
      "cell_type": "code",
      "source": [
        "a = {i: i * i for i in range(6)}\n",
        "print(a)"
      ],
      "metadata": {
        "id": "QBDoNotbt2Va"
      },
      "execution_count": null,
      "outputs": []
    },
    {
      "cell_type": "markdown",
      "source": [
        "19"
      ],
      "metadata": {
        "id": "jzWJi8wF8pAR"
      }
    },
    {
      "cell_type": "code",
      "source": [
        " v={}\n",
        " v.fromkeys(['a','b','c','d'],98) \n",
        " print (v)\n"
      ],
      "metadata": {
        "id": "RSqllf95t2Rq"
      },
      "execution_count": null,
      "outputs": []
    },
    {
      "cell_type": "markdown",
      "source": [
        "20"
      ],
      "metadata": {
        "id": "A1L2kZ2D9REi"
      }
    },
    {
      "cell_type": "code",
      "source": [
        "dict ={  }                              \n",
        "print(all(dict))"
      ],
      "metadata": {
        "id": "Xn0L0se6t2Nv"
      },
      "execution_count": null,
      "outputs": []
    },
    {
      "cell_type": "markdown",
      "source": [
        "21"
      ],
      "metadata": {
        "id": "y0ouF53g9UNR"
      }
    },
    {
      "cell_type": "code",
      "source": [
        "a = {'geeks' : 1 , 'gfg' :2}          \n",
        "b = {'geeks' : 2 , 'gfg' : 1}\n",
        "print (a == b)"
      ],
      "metadata": {
        "id": "5tiHmp6wt2Ce"
      },
      "execution_count": null,
      "outputs": []
    },
    {
      "cell_type": "markdown",
      "source": [
        "22"
      ],
      "metadata": {
        "id": "M9nY3sgm9Vye"
      }
    },
    {
      "cell_type": "code",
      "source": [
        "# answer====>b"
      ],
      "metadata": {
        "id": "Hqmn9umit18-"
      },
      "execution_count": null,
      "outputs": []
    },
    {
      "cell_type": "markdown",
      "source": [
        "23"
      ],
      "metadata": {
        "id": "DrYxncRd9dDO"
      }
    },
    {
      "cell_type": "code",
      "source": [
        "dictionary = {'GRG' : 'geeksforgeeks.org',    'google' : 'google.com', 'facebook': 'facebook.com'  }\n",
        "for key , values in dictionary.items():\n",
        "   print(key)\n",
        "   "
      ],
      "metadata": {
        "id": "ZfQGMNoit15Y"
      },
      "execution_count": null,
      "outputs": []
    },
    {
      "cell_type": "code",
      "source": [
        "for key , values in dictionary.items() :                                                 \n",
        "   print(values)"
      ],
      "metadata": {
        "id": "OtW-Ma1Yt11Q"
      },
      "execution_count": null,
      "outputs": []
    },
    {
      "cell_type": "markdown",
      "source": [
        "24"
      ],
      "metadata": {
        "id": "XWiJ5HjH_QSv"
      }
    },
    {
      "cell_type": "code",
      "source": [
        "dictionary1={'Google' : 1,   'Facebook' : 2,   'Microsoft' : 3  } \n",
        "Dictionary2={'GFG' : 1,  'Microsoft' : 2,    'youtube' : 3   }\n",
        "dictionary1.update(Dictionary2)\n",
        "for key, values in dictionary1.items():\n",
        "  print(key,values)"
      ],
      "metadata": {
        "id": "J9kTQ1NYt1xq"
      },
      "execution_count": null,
      "outputs": []
    },
    {
      "cell_type": "markdown",
      "source": [
        "25"
      ],
      "metadata": {
        "id": "qt1JIK7k_SaH"
      }
    },
    {
      "cell_type": "code",
      "source": [],
      "metadata": {
        "id": "mIwknz5Mt1t3"
      },
      "execution_count": null,
      "outputs": []
    },
    {
      "cell_type": "code",
      "source": [],
      "metadata": {
        "id": "JY1HVE6at1oj"
      },
      "execution_count": null,
      "outputs": []
    },
    {
      "cell_type": "code",
      "source": [],
      "metadata": {
        "id": "zkThHdQPt1j0"
      },
      "execution_count": null,
      "outputs": []
    },
    {
      "cell_type": "code",
      "source": [],
      "metadata": {
        "id": "AeiagKP0t1f1"
      },
      "execution_count": null,
      "outputs": []
    },
    {
      "cell_type": "code",
      "source": [],
      "metadata": {
        "id": "WzfuJIsvt1b5"
      },
      "execution_count": null,
      "outputs": []
    },
    {
      "cell_type": "code",
      "source": [],
      "metadata": {
        "id": "rz94sWTbt1XY"
      },
      "execution_count": null,
      "outputs": []
    },
    {
      "cell_type": "code",
      "source": [],
      "metadata": {
        "id": "3MRvFODGt1Tt"
      },
      "execution_count": null,
      "outputs": []
    },
    {
      "cell_type": "code",
      "source": [],
      "metadata": {
        "id": "y_yraMvEt1Pb"
      },
      "execution_count": null,
      "outputs": []
    },
    {
      "cell_type": "code",
      "source": [],
      "metadata": {
        "id": "eoy0dzLWt1LN"
      },
      "execution_count": null,
      "outputs": []
    },
    {
      "cell_type": "code",
      "source": [],
      "metadata": {
        "id": "ZI5yD5uYt1HN"
      },
      "execution_count": null,
      "outputs": []
    },
    {
      "cell_type": "code",
      "source": [],
      "metadata": {
        "id": "goZEcVitt0-p"
      },
      "execution_count": null,
      "outputs": []
    },
    {
      "cell_type": "markdown",
      "source": [
        "5"
      ],
      "metadata": {
        "id": "PXVLe3RfcPps"
      }
    }
  ]
}