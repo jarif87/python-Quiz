{
  "nbformat": 4,
  "nbformat_minor": 0,
  "metadata": {
    "colab": {
      "provenance": []
    },
    "kernelspec": {
      "name": "python3",
      "display_name": "Python 3"
    },
    "language_info": {
      "name": "python"
    }
  },
  "cells": [
    {
      "cell_type": "markdown",
      "source": [
        "1"
      ],
      "metadata": {
        "id": "ODEbdiy8y8w0"
      }
    },
    {
      "cell_type": "code",
      "source": [
        "s = \"foo-bar-baz\""
      ],
      "metadata": {
        "id": "nHLiHiy7y7pd"
      },
      "execution_count": 1,
      "outputs": []
    },
    {
      "cell_type": "code",
      "source": [
        "\"-\".join(s.split (\"-\"))#right"
      ],
      "metadata": {
        "colab": {
          "base_uri": "https://localhost:8080/",
          "height": 35
        },
        "id": "CC-tAzMgy7lq",
        "outputId": "bb4c5dcc-7080-4c2c-d476-e9f51c0ad469"
      },
      "execution_count": 2,
      "outputs": [
        {
          "output_type": "execute_result",
          "data": {
            "text/plain": [
              "'foo-bar-baz'"
            ],
            "application/vnd.google.colaboratory.intrinsic+json": {
              "type": "string"
            }
          },
          "metadata": {},
          "execution_count": 2
        }
      ]
    },
    {
      "cell_type": "code",
      "source": [
        "s.center (15)"
      ],
      "metadata": {
        "colab": {
          "base_uri": "https://localhost:8080/",
          "height": 35
        },
        "id": "KvGp7Lew2trP",
        "outputId": "60f46f92-5532-4a0f-8170-eb801e0251ba"
      },
      "execution_count": 3,
      "outputs": [
        {
          "output_type": "execute_result",
          "data": {
            "text/plain": [
              "'  foo-bar-baz  '"
            ],
            "application/vnd.google.colaboratory.intrinsic+json": {
              "type": "string"
            }
          },
          "metadata": {},
          "execution_count": 3
        }
      ]
    },
    {
      "cell_type": "code",
      "source": [
        "\"-\".join(s.partition(\"-\"))"
      ],
      "metadata": {
        "colab": {
          "base_uri": "https://localhost:8080/",
          "height": 35
        },
        "id": "o8Cgiezgy7hc",
        "outputId": "94625f90-6aee-4b86-8310-79cb04484383"
      },
      "execution_count": 4,
      "outputs": [
        {
          "output_type": "execute_result",
          "data": {
            "text/plain": [
              "'foo---bar-baz'"
            ],
            "application/vnd.google.colaboratory.intrinsic+json": {
              "type": "string"
            }
          },
          "metadata": {},
          "execution_count": 4
        }
      ]
    },
    {
      "cell_type": "code",
      "source": [
        "s.strip(\"-\") #right"
      ],
      "metadata": {
        "colab": {
          "base_uri": "https://localhost:8080/",
          "height": 35
        },
        "id": "4OsnDb1Ty7aR",
        "outputId": "4d5e53c4-ba86-43e7-b588-6341888d4a19"
      },
      "execution_count": 5,
      "outputs": [
        {
          "output_type": "execute_result",
          "data": {
            "text/plain": [
              "'foo-bar-baz'"
            ],
            "application/vnd.google.colaboratory.intrinsic+json": {
              "type": "string"
            }
          },
          "metadata": {},
          "execution_count": 5
        }
      ]
    },
    {
      "cell_type": "code",
      "source": [
        "s.upper().lower() #right"
      ],
      "metadata": {
        "colab": {
          "base_uri": "https://localhost:8080/",
          "height": 35
        },
        "id": "a1QM-2Nry7XK",
        "outputId": "0928c053-ccb4-4dd5-8849-09ffd66ffdff"
      },
      "execution_count": 6,
      "outputs": [
        {
          "output_type": "execute_result",
          "data": {
            "text/plain": [
              "'foo-bar-baz'"
            ],
            "application/vnd.google.colaboratory.intrinsic+json": {
              "type": "string"
            }
          },
          "metadata": {},
          "execution_count": 6
        }
      ]
    },
    {
      "cell_type": "markdown",
      "source": [
        "#number_2"
      ],
      "metadata": {
        "id": "crHNdhOj1HSx"
      }
    },
    {
      "cell_type": "code",
      "source": [
        "# v=bytes (0,0,0,0,0)\n",
        "v=bytes (\"\\x00\\x00\\x00\\x00\\x00\", \"utf -8\")\n",
        "print(v)"
      ],
      "metadata": {
        "colab": {
          "base_uri": "https://localhost:8080/"
        },
        "id": "RoaFYbfay68H",
        "outputId": "3a7d25c3-36af-4de9-e3b8-dd0ee8f98728"
      },
      "execution_count": 160,
      "outputs": [
        {
          "output_type": "stream",
          "name": "stdout",
          "text": [
            "b'\\x00\\x00\\x00\\x00\\x00'\n"
          ]
        }
      ]
    },
    {
      "cell_type": "markdown",
      "source": [
        " # number_3"
      ],
      "metadata": {
        "id": "qc5Z4Qra3P9Y"
      }
    },
    {
      "cell_type": "code",
      "source": [
        "   list(('babcde'+ 'fghi')[3:6])   "
      ],
      "metadata": {
        "colab": {
          "base_uri": "https://localhost:8080/"
        },
        "id": "JRK5SUaGy64N",
        "outputId": "aa856d6a-d826-4984-de76-adcc588c8aaa"
      },
      "execution_count": 7,
      "outputs": [
        {
          "output_type": "execute_result",
          "data": {
            "text/plain": [
              "['c', 'd', 'e']"
            ]
          },
          "metadata": {},
          "execution_count": 7
        }
      ]
    },
    {
      "cell_type": "markdown",
      "source": [
        " # number_4"
      ],
      "metadata": {
        "id": "xlw3jToJ3WWJ"
      }
    },
    {
      "cell_type": "code",
      "source": [
        "aList = [4,8,12,16]\n",
        "aList [1:4]=[20,24,28]   #number_4\n",
        "print(aList)"
      ],
      "metadata": {
        "colab": {
          "base_uri": "https://localhost:8080/"
        },
        "id": "0QPrph3Cy6z6",
        "outputId": "03c252c5-69d1-475a-968b-eedd65dd018e"
      },
      "execution_count": 9,
      "outputs": [
        {
          "output_type": "stream",
          "name": "stdout",
          "text": [
            "[4, 20, 24, 28]\n"
          ]
        }
      ]
    },
    {
      "cell_type": "markdown",
      "source": [
        "#  number_5"
      ],
      "metadata": {
        "id": "syBu-Bfc3y4z"
      }
    },
    {
      "cell_type": "code",
      "source": [
        "sampleList = [10,20,30,40]"
      ],
      "metadata": {
        "id": "ZwMxQe3N3xu7"
      },
      "execution_count": 10,
      "outputs": []
    },
    {
      "cell_type": "code",
      "source": [
        "del sampleList [0:6]\n",
        "print(sampleList)"
      ],
      "metadata": {
        "colab": {
          "base_uri": "https://localhost:8080/"
        },
        "id": "apKJlIvw37_E",
        "outputId": "d7f6a26b-4a46-4050-ac4b-9e8dd2ee6771"
      },
      "execution_count": 12,
      "outputs": [
        {
          "output_type": "stream",
          "name": "stdout",
          "text": [
            "[]\n"
          ]
        }
      ]
    },
    {
      "cell_type": "markdown",
      "source": [
        "#  number_6"
      ],
      "metadata": {
        "id": "IAN6LE-O3grO"
      }
    },
    {
      "cell_type": "code",
      "source": [
        "aList = ['a','b','c','d']\n",
        "print(\"this is first copy\",aList.copy( ))   #right\n",
        "# aList.copy(aList)===>wrong\n",
        "# newList.copy(aList)----->wrong\n",
        "list(aList)   #right"
      ],
      "metadata": {
        "colab": {
          "base_uri": "https://localhost:8080/"
        },
        "id": "AnvmKmCTy6wI",
        "outputId": "7342b4cc-99ea-49d4-f458-d4b6b4b29b71"
      },
      "execution_count": 20,
      "outputs": [
        {
          "output_type": "stream",
          "name": "stdout",
          "text": [
            "this is first copy ['a', 'b', 'c', 'd']\n"
          ]
        },
        {
          "output_type": "execute_result",
          "data": {
            "text/plain": [
              "['a', 'b', 'c', 'd']"
            ]
          },
          "metadata": {},
          "execution_count": 20
        }
      ]
    },
    {
      "cell_type": "markdown",
      "source": [
        "number_7"
      ],
      "metadata": {
        "id": "1B8gwlkY3jlc"
      }
    },
    {
      "cell_type": "code",
      "source": [
        "sampleList = [10,20,30,40,50]\n",
        "sampleList . append(60)    \n",
        "print(sampleList) \n",
        "sampleList . append(60) \n",
        "print(sampleList)  "
      ],
      "metadata": {
        "colab": {
          "base_uri": "https://localhost:8080/"
        },
        "id": "FJLkS7ePy6ho",
        "outputId": "8d2e7aa9-ce85-4efc-f62c-0e2a5fde60e5"
      },
      "execution_count": 26,
      "outputs": [
        {
          "output_type": "stream",
          "name": "stdout",
          "text": [
            "[10, 20, 30, 40, 50, 60]\n",
            "[10, 20, 30, 40, 50, 60, 60]\n"
          ]
        }
      ]
    },
    {
      "cell_type": "markdown",
      "source": [
        "# number_8"
      ],
      "metadata": {
        "id": "Dp9CzvDi3nXW"
      }
    },
    {
      "cell_type": "code",
      "execution_count": 43,
      "metadata": {
        "colab": {
          "base_uri": "https://localhost:8080/"
        },
        "id": "taRsKPOKfjXY",
        "outputId": "bacf6ea6-a635-430c-f7e6-996d132d029b"
      },
      "outputs": [
        {
          "output_type": "stream",
          "name": "stdout",
          "text": [
            "zara\n"
          ]
        }
      ],
      "source": [
        "test_list=[\"xyz\",\"zara\",\"PYnative\"]\n",
        "print(max(test_list))"
      ]
    },
    {
      "cell_type": "code",
      "source": [
        "print(ord(\"x\"))\n",
        "print(ord(\"z\"))\n",
        "print(ord(\"P\"))"
      ],
      "metadata": {
        "colab": {
          "base_uri": "https://localhost:8080/"
        },
        "id": "AMLW4cxp3t1T",
        "outputId": "a255705d-a5d4-4031-c8c0-a86fd4bcca75"
      },
      "execution_count": 44,
      "outputs": [
        {
          "output_type": "stream",
          "name": "stdout",
          "text": [
            "120\n",
            "122\n",
            "80\n"
          ]
        }
      ]
    },
    {
      "cell_type": "markdown",
      "source": [
        "# number_9"
      ],
      "metadata": {
        "id": "Jfq_ADn894wu"
      }
    },
    {
      "cell_type": "code",
      "source": [
        "resList = [x+y for x in ['Hello ', 'Good '] for y in ['Dear', 'Bye']]\n",
        "resList"
      ],
      "metadata": {
        "colab": {
          "base_uri": "https://localhost:8080/"
        },
        "id": "wAjxXzFW3txd",
        "outputId": "4e58a638-63cc-4e01-dcb7-4868e552d93c"
      },
      "execution_count": 162,
      "outputs": [
        {
          "output_type": "execute_result",
          "data": {
            "text/plain": [
              "['Hello Dear', 'Hello Bye', 'Good Dear', 'Good Bye']"
            ]
          },
          "metadata": {},
          "execution_count": 162
        }
      ]
    },
    {
      "cell_type": "markdown",
      "source": [
        "# number_10"
      ],
      "metadata": {
        "id": "z9vBT1qJ965f"
      }
    },
    {
      "cell_type": "code",
      "source": [
        "sampleList = [10,20,30,40,50]\n",
        "sampleList.pop( )  \n",
        "print(sampleList)\n",
        "sampleList.pop(2)\n",
        "print((sampleList)  )"
      ],
      "metadata": {
        "colab": {
          "base_uri": "https://localhost:8080/"
        },
        "id": "sIB3ceav3ttx",
        "outputId": "5b768506-c739-4aed-ea23-420a7a45adf0"
      },
      "execution_count": 50,
      "outputs": [
        {
          "output_type": "stream",
          "name": "stdout",
          "text": [
            "[10, 20, 30, 40]\n",
            "[10, 20, 40]\n"
          ]
        }
      ]
    },
    {
      "cell_type": "markdown",
      "source": [
        "# number 11"
      ],
      "metadata": {
        "id": "sl-T3Ei0-d9d"
      }
    },
    {
      "cell_type": "code",
      "source": [
        "my_list = [\"Hello\",\" PYthon\"]\n",
        "print ('-'.join(my_list))"
      ],
      "metadata": {
        "colab": {
          "base_uri": "https://localhost:8080/"
        },
        "id": "voFXYrk13tqC",
        "outputId": "85c28a18-9b38-4071-c107-b1ff7c2c5806"
      },
      "execution_count": 55,
      "outputs": [
        {
          "output_type": "stream",
          "name": "stdout",
          "text": [
            "Hello- PYthon\n"
          ]
        }
      ]
    },
    {
      "cell_type": "markdown",
      "source": [
        "# number 12"
      ],
      "metadata": {
        "id": "xfGIhO3p-gwb"
      }
    },
    {
      "cell_type": "code",
      "source": [
        "dictionary1 = {'GGF' :1, 'Google' :2,'GFG' :3  } \n",
        "print((dictionary1['GFG']))"
      ],
      "metadata": {
        "colab": {
          "base_uri": "https://localhost:8080/"
        },
        "id": "D1rdtGYh3tkh",
        "outputId": "f1a4c1dd-c903-4fe9-bd3c-3532ef870baa"
      },
      "execution_count": 56,
      "outputs": [
        {
          "output_type": "stream",
          "name": "stdout",
          "text": [
            "3\n"
          ]
        }
      ]
    },
    {
      "cell_type": "markdown",
      "source": [
        "# number 13"
      ],
      "metadata": {
        "id": "VFL7Onc2-jef"
      }
    },
    {
      "cell_type": "code",
      "source": [
        "temp = dict ()\n",
        "temp ['key1'] = {'key1' : 44 , 'key2' :566}\n",
        "temp ['key2'] = [1,2,3,4]\n",
        "for (key , values) in temp.items():\n",
        "  print(values,end=\"\")"
      ],
      "metadata": {
        "colab": {
          "base_uri": "https://localhost:8080/"
        },
        "id": "JPqmZ-Gj3tgT",
        "outputId": "1ea28f11-f86a-440d-e172-542d50db5b96"
      },
      "execution_count": 62,
      "outputs": [
        {
          "output_type": "stream",
          "name": "stdout",
          "text": [
            "{'key1': 44, 'key2': 566}[1, 2, 3, 4]"
          ]
        }
      ]
    },
    {
      "cell_type": "markdown",
      "source": [
        "# number 14"
      ],
      "metadata": {
        "id": "JRg3BdaD-nVf"
      }
    },
    {
      "cell_type": "code",
      "source": [
        "temp = {'GFG' :1,   'Facebook' : 2,  'Google' :3  }\n",
        "for (key , values ) in temp.items():\n",
        "  print(key , values ,end = ' ')"
      ],
      "metadata": {
        "colab": {
          "base_uri": "https://localhost:8080/"
        },
        "id": "TerWeCF53tbq",
        "outputId": "825ce055-e05d-4fd9-c840-15b14a7796f2"
      },
      "execution_count": 66,
      "outputs": [
        {
          "output_type": "stream",
          "name": "stdout",
          "text": [
            "GFG 1 Facebook 2 Google 3 "
          ]
        }
      ]
    },
    {
      "cell_type": "markdown",
      "source": [
        "# number 15"
      ],
      "metadata": {
        "id": "rm3rkK6m-r0m"
      }
    },
    {
      "cell_type": "code",
      "source": [
        "numberGames = { }\n",
        "numberGames [(1,2,4)] =8\n",
        "numberGames [(4,2,1)] =10 \n",
        "numberGames [(1,2)] =12 \n",
        "sum = 0 \n",
        "for k in numberGames :\n",
        "  print(\"value is \",numberGames[k])\n",
        "  \n",
        "  sum += numberGames [k]\n",
        "  \n",
        "\n",
        "print (len(numberGames) + sum)\n",
        "\n",
        "\n"
      ],
      "metadata": {
        "colab": {
          "base_uri": "https://localhost:8080/"
        },
        "id": "mNVCp6FO3tNV",
        "outputId": "0e335b30-1233-4830-945f-e8237364589a"
      },
      "execution_count": 95,
      "outputs": [
        {
          "output_type": "stream",
          "name": "stdout",
          "text": [
            "value is  8\n",
            "value is  10\n",
            "value is  12\n",
            "33\n"
          ]
        }
      ]
    },
    {
      "cell_type": "markdown",
      "source": [
        "# number 16"
      ],
      "metadata": {
        "id": "vE2dWGfGFVmQ"
      }
    },
    {
      "cell_type": "code",
      "source": [
        "# d1 = {'john':40, 'peter' : 45}\n",
        "# d2 = {'john' :466, 'peter': 45}\n",
        "# print (d1>d2)"
      ],
      "metadata": {
        "id": "r77ZhnpQEAbE"
      },
      "execution_count": 100,
      "outputs": []
    },
    {
      "cell_type": "markdown",
      "source": [
        "# number_17"
      ],
      "metadata": {
        "id": "fOnvv6tfFYiT"
      }
    },
    {
      "cell_type": "code",
      "source": [
        "dictionary = {\"geek\" :10, \"for\" :45, \"geek\":90}\n",
        "print (\"geek\" in dictionary) "
      ],
      "metadata": {
        "colab": {
          "base_uri": "https://localhost:8080/"
        },
        "id": "sZjp644mBqyj",
        "outputId": "921afdd9-c154-4609-8bb8-986ca63ce110"
      },
      "execution_count": 103,
      "outputs": [
        {
          "output_type": "stream",
          "name": "stdout",
          "text": [
            "True\n"
          ]
        }
      ]
    },
    {
      "cell_type": "markdown",
      "source": [
        "# number 18"
      ],
      "metadata": {
        "id": "aYdIhPdRFcql"
      }
    },
    {
      "cell_type": "code",
      "source": [
        " dictionary ={1: '1', 2:'2', 3:'3'} \n",
        " del dictionary[1] \n",
        " dictionary [1] ='10'\n",
        " del dictionary[2]\n",
        " print (len(dictionary))"
      ],
      "metadata": {
        "colab": {
          "base_uri": "https://localhost:8080/"
        },
        "id": "FDeNJNHpBqqc",
        "outputId": "e4e7ba9e-0d3a-411e-c3be-af1bf8387150"
      },
      "execution_count": 114,
      "outputs": [
        {
          "output_type": "stream",
          "name": "stdout",
          "text": [
            "2\n"
          ]
        }
      ]
    },
    {
      "cell_type": "markdown",
      "source": [
        "# number 19"
      ],
      "metadata": {
        "id": "O5YzxafoFfo8"
      }
    },
    {
      "cell_type": "code",
      "source": [
        "# dictionary = {1: 'geek' , 2: 'for', 3: 'geeks'}\n",
        "# del dictionary\n",
        "# print(dictionary)"
      ],
      "metadata": {
        "id": "u74rv_b-BqlL"
      },
      "execution_count": 120,
      "outputs": []
    },
    {
      "cell_type": "markdown",
      "source": [
        "# number 20"
      ],
      "metadata": {
        "id": "GvcyDYk4FkXv"
      }
    },
    {
      "cell_type": "code",
      "source": [
        " a = {}\n",
        " a[1] =1\n",
        " a [1] =2\n",
        " a[1]= a[1]+1\n",
        " count = 0\n",
        " for i in a : \n",
        "   print(a)\n",
        "   count += a [i]\n",
        "   print (count)"
      ],
      "metadata": {
        "colab": {
          "base_uri": "https://localhost:8080/"
        },
        "id": "7gqXCXoQBqgi",
        "outputId": "a4b2ee09-767e-4c72-badc-e615623bcb4e"
      },
      "execution_count": 128,
      "outputs": [
        {
          "output_type": "stream",
          "name": "stdout",
          "text": [
            "{1: 3}\n",
            "3\n"
          ]
        }
      ]
    },
    {
      "cell_type": "code",
      "source": [
        "#  a = {}\n",
        "#  a[1] =1\n",
        "#  a [1] =2\n",
        "#  a[1]= a[1]+1\n",
        "#  print(\"A1 value is \",a[1])\n",
        "#  count = 0\n",
        "#  for i in a : \n",
        "#    print(\"value of a is \",a)\n",
        "#    print(\"value of i is \",i)\n",
        "#    count += a [i]\n",
        "#    print (count)"
      ],
      "metadata": {
        "id": "sxYIVtfCBqct"
      },
      "execution_count": 141,
      "outputs": []
    },
    {
      "cell_type": "markdown",
      "source": [
        "# number_21"
      ],
      "metadata": {
        "id": "l3VjNHjRPCMh"
      }
    },
    {
      "cell_type": "code",
      "source": [
        "test ={ 1: 'A' , 2 : 'B', 3: 'C'}\n",
        "del test [1]\n",
        "test [1] = 'D' \n",
        "del test [2]\n",
        "print (len(test))"
      ],
      "metadata": {
        "colab": {
          "base_uri": "https://localhost:8080/"
        },
        "id": "5PNYUXHRBqCF",
        "outputId": "aa092f0f-7dad-48f0-a457-750a79f133d5"
      },
      "execution_count": 146,
      "outputs": [
        {
          "output_type": "stream",
          "name": "stdout",
          "text": [
            "2\n"
          ]
        }
      ]
    },
    {
      "cell_type": "markdown",
      "source": [
        "# number_22"
      ],
      "metadata": {
        "id": "yd0eUy77PFSd"
      }
    },
    {
      "cell_type": "code",
      "source": [
        "a = {}\n",
        "a['a'] =1\n",
        "a['b'] = [2,3,4] \n",
        "print(a)"
      ],
      "metadata": {
        "colab": {
          "base_uri": "https://localhost:8080/"
        },
        "id": "wMFRtfi8Bp-K",
        "outputId": "37527711-98eb-427a-b19b-f7fa92597433"
      },
      "execution_count": 149,
      "outputs": [
        {
          "output_type": "stream",
          "name": "stdout",
          "text": [
            "{'a': 1, 'b': [2, 3, 4]}\n"
          ]
        }
      ]
    },
    {
      "cell_type": "markdown",
      "source": [
        "# number_23"
      ],
      "metadata": {
        "id": "SX4VYD6nPKc2"
      }
    },
    {
      "cell_type": "code",
      "source": [
        "dictionary = {}\n",
        "dictionary [1] =1\n",
        "dictionary['1'] = 2\n",
        "dictionary [1] +=1\n",
        "print(\"dictionary is \",dictionary)\n",
        "sum = 0\n",
        "for k in dictionary:\n",
        "\n",
        "\n",
        " sum += dictionary[k]\n",
        "print (sum)"
      ],
      "metadata": {
        "colab": {
          "base_uri": "https://localhost:8080/"
        },
        "id": "Ia7OVDY9Bp53",
        "outputId": "1227b924-a537-454d-bbd9-f2b90f8f7fbb"
      },
      "execution_count": 155,
      "outputs": [
        {
          "output_type": "stream",
          "name": "stdout",
          "text": [
            "dictionary is  {1: 2, '1': 2}\n",
            "4\n"
          ]
        }
      ]
    },
    {
      "cell_type": "code",
      "source": [],
      "metadata": {
        "id": "Jp_pTUoDBp1k"
      },
      "execution_count": null,
      "outputs": []
    },
    {
      "cell_type": "code",
      "source": [],
      "metadata": {
        "id": "hAfcBH40BpxH"
      },
      "execution_count": null,
      "outputs": []
    },
    {
      "cell_type": "code",
      "source": [],
      "metadata": {
        "id": "aLyDYRlEBpsX"
      },
      "execution_count": null,
      "outputs": []
    }
  ]
}